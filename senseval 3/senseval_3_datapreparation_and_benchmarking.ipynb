{
 "cells": [
  {
   "cell_type": "code",
   "execution_count": 95,
   "metadata": {},
   "outputs": [
    {
     "name": "stderr",
     "output_type": "stream",
     "text": [
      "[nltk_data] Downloading package wordnet to /Users/amin/nltk_data...\n",
      "[nltk_data]   Package wordnet is already up-to-date!\n"
     ]
    }
   ],
   "source": [
    "from nltk.corpus import wordnet as wn\n",
    "import nltk\n",
    "nltk.download('wordnet')\n",
    "import pandas as pd\n",
    "from bs4 import BeautifulSoup\n",
    "import requests\n",
    "import json\n",
    "import random\n",
    "import re"
   ]
  },
  {
   "cell_type": "code",
   "execution_count": 2,
   "metadata": {},
   "outputs": [],
   "source": [
    "with open('/Users/amin/obisidian vault/Thesis/wsd benchmarks files/senseval3/xl-wsd/evaluation_datasets/test-en/test-en.gold.key.txt','r') as file:\n",
    "    keys = {i.strip().split(' ')[0]:i.strip().split(' ')[1] for i in file.readlines() if len(i.split(' ')) == 2} # removing the ones with more than one sense as the response"
   ]
  },
  {
   "cell_type": "code",
   "execution_count": 3,
   "metadata": {},
   "outputs": [],
   "source": [
    "with open('/Users/amin/obisidian vault/Thesis/wsd benchmarks files/senseval3/xl-wsd/evaluation_datasets/test-en/test-en.data.xml',) as file:\n",
    "    soup = BeautifulSoup(file, features=\"xml\")"
   ]
  },
  {
   "cell_type": "code",
   "execution_count": 4,
   "metadata": {},
   "outputs": [],
   "source": [
    "def get_wn_gloss(synset_id):\n",
    "    url = f\"https://babelnet.io/v9/getSynset?id={synset_id}&wnVersion=WN_30&source=WN&key=010db22e-19bf-4564-a527-8bd6b2da872a\"\n",
    "    \n",
    "    response = requests.get(url)\n",
    "    if response.status_code == 200:\n",
    "        data = response.json()\n",
    "        glosses = data.get(\"glosses\", [])\n",
    "        for gloss in glosses:\n",
    "            if gloss.get(\"source\") == \"WN\":\n",
    "                return gloss.get(\"gloss\")\n",
    "    else:\n",
    "        return f\"Error: Unable to fetch data, status code {response.status_code}\""
   ]
  },
  {
   "cell_type": "code",
   "execution_count": 5,
   "metadata": {},
   "outputs": [],
   "source": [
    "pos_keys = {'ADJ':\"a\", 'ADV':\"r\", 'NOUN':\"n\", 'VERB':\"v\"}\n",
    "# Path to your XML file\n",
    "xml_file_path = '/Users/amin/obisidian vault/Thesis/wsd benchmarks files/senseval3/xl-wsd/evaluation_datasets/test-en/test-en.data.xml'\n",
    "\n",
    "# Load and parse the XML file\n",
    "with open(xml_file_path, 'r') as file:\n",
    "    soup = BeautifulSoup(file, features=\"xml\")\n",
    "\n",
    "# Initialize an empty list to store JSON items\n",
    "json_data = []\n",
    "\n",
    "# Iterate through each sentence in the XML\n",
    "for sentence in soup.find_all('sentence'):\n",
    "    # Extract the full sentence without any tags first\n",
    "    sentence_text = []\n",
    "    for element in sentence.find_all(['wf', 'instance']):\n",
    "        word = element.get_text()\n",
    "        \n",
    "        # Handle punctuation: no space before punctuation marks\n",
    "        if element.name == 'wf' and element['pos'] == '.':\n",
    "            if sentence_text:\n",
    "                sentence_text[-1] += word  # Append punctuation to the last word\n",
    "        else:\n",
    "            sentence_text.append(word)\n",
    "    \n",
    "    # Join the sentence text\n",
    "    full_sentence = ' '.join(sentence_text)\n",
    "\n",
    "    # Create a JSON item for each disambiguation instance\n",
    "    for instance in sentence.find_all('instance'):\n",
    "        word = instance.get_text()\n",
    "        target_id = instance['id']\n",
    "        lemma = instance['lemma']\n",
    "        pos = pos_keys[instance['pos']]\n",
    "\n",
    "        # Recreate the sentence with only the current target word tagged\n",
    "        tagged_sentence = full_sentence.replace(word, f\"<target>{word}</target>\", 1)\n",
    "\n",
    "        json_item = {\n",
    "            'sentence': tagged_sentence,\n",
    "            'target_word': word,\n",
    "            'target_id': keys.get(target_id),\n",
    "            'lemma': lemma,\n",
    "            'pos': pos,\n",
    "            'defs': [i.definition() for i in wn.synsets(lemma,pos)]\n",
    "        }\n",
    "        if json_item['target_id']:\n",
    "            json_data.append(json_item)\n",
    "\n",
    "# Convert the list to JSON\n",
    "json_output = json.dumps(json_data, indent=2)\n",
    "\n",
    "# Output the JSON to a file (optional)\n",
    "output_file_path = 'all_data_with_babelnet.json'\n",
    "with open(output_file_path, 'w') as json_file:\n",
    "    json_file.write(json_output)\n",
    "\n",
    "# Alternatively, print the JSON to the console\n",
    "#print(json_output)"
   ]
  },
  {
   "cell_type": "code",
   "execution_count": 6,
   "metadata": {},
   "outputs": [],
   "source": [
    "random.seed(42)\n",
    "random_sample = random.sample(json_data,250)\n",
    "\n",
    "for i in range(len(random_sample)):\n",
    "    random_sample[i]['gold'] = get_wn_gloss(random_sample[i]['target_id'])\n",
    "\n",
    "random_sample_json_output = json.dumps(random_sample, indent=2)\n",
    "\n",
    "# Output the JSON to a file (optional)\n",
    "output_file_path = 'random_sample_with_meaning.json'\n",
    "with open(output_file_path, 'w') as json_file:\n",
    "    json_file.write(random_sample_json_output)\n"
   ]
  },
  {
   "cell_type": "markdown",
   "metadata": {},
   "source": [
    "# run the benchmark"
   ]
  },
  {
   "cell_type": "code",
   "execution_count": 47,
   "metadata": {},
   "outputs": [],
   "source": [
    "import dspy\n",
    "import Levenshtein\n",
    "from dspy.teleprompt import BootstrapFewShot\n",
    "from dspy.evaluate import Evaluate"
   ]
  },
  {
   "cell_type": "code",
   "execution_count": 54,
   "metadata": {},
   "outputs": [
    {
     "name": "stdout",
     "output_type": "stream",
     "text": [
      "There are 250 examples.\n"
     ]
    }
   ],
   "source": [
    "examples = [dspy.Example({\"context\": r[\"sentence\"], \"definitions\": r[\"defs\"], \"word\":r['target_word'],\"sense\":r['gold']}).with_inputs(\"context\",\"word\", \"definitions\") for r in random_sample]\n",
    "print(f\"There are {len(examples)} examples.\")\n",
    "trainset = random.sample(examples, 3)\n",
    "valset = [i for i in examples if i not in trainset]"
   ]
  },
  {
   "cell_type": "code",
   "execution_count": 101,
   "metadata": {},
   "outputs": [
    {
     "name": "stderr",
     "output_type": "stream",
     "text": [
      "  0%|          | 0/3 [00:00<?, ?it/s]"
     ]
    },
    {
     "name": "stdout",
     "output_type": "stream",
     "text": [
      "Bootstrapped 0 full traces after 1 examples in round 0.\n"
     ]
    },
    {
     "name": "stderr",
     "output_type": "stream",
     "text": [
      "\n"
     ]
    }
   ],
   "source": [
    "def custom_format_handler(value):\n",
    "    if isinstance(value, list):\n",
    "        return \" | \".join(map(str, value))\n",
    "    return value\n",
    "\n",
    "lm = dspy.OpenAI(\n",
    "    model=\"gpt-4o\",\n",
    "    api_key='',\n",
    "    max_tokens=4000\n",
    ")\n",
    "\n",
    "\n",
    "class CoTSignature(dspy.Signature):\n",
    "    \"\"\"Word Sense Disambiguation: Your task is to return verbatim the most relevant definition from the definitions provided without any changes or extra information.\"\"\"\n",
    "\n",
    "    context = dspy.InputField(\n",
    "        desc=\"the context within which the target word is disambiguated\"\n",
    "    )\n",
    "    word = dspy.InputField(\n",
    "        desc=\"the target word in the context that needs to be disambiguated\"\n",
    "    )\n",
    "    definitions = dspy.InputField(\n",
    "        desc=\"list of definitions for the target word\", format=custom_format_handler\n",
    "    )\n",
    "    sense = dspy.OutputField(\n",
    "        desc=\"the definition selected from the list of definitions that best matches for the target word's usage in the context provided\",\n",
    "        format=custom_format_handler,\n",
    "    )\n",
    "\n",
    "\n",
    "class CoT(dspy.Module):\n",
    "    def __init__(self):\n",
    "        super().__init__()\n",
    "        self.predictor = dspy.ChainOfThought(CoTSignature)\n",
    "    def forward(self, context, word, definitions):\n",
    "        result = self.predictor(\n",
    "            lm=lm,\n",
    "            context=context,\n",
    "            word=word,\n",
    "            definitions=definitions,\n",
    "        )\n",
    "        return dspy.Prediction(sense=result.sense)\n",
    "\n",
    "\n",
    "def wsd_metric(example, pred, trace=None, threshold=0.55):\n",
    "    \"\"\"Metric function for word sense disambiguation with Levenshtein distance.\"\"\"\n",
    "    gold_sense = example['sense']\n",
    "    predicted_sense = pred.sense\n",
    "    match = re.search(r'Sense:\\s*(.+)', predicted_sense)\n",
    "    if match:\n",
    "        predicted_sense = match.group(1).strip()\n",
    "\n",
    "    # Calculate Levenshtein similarity\n",
    "    similarity = Levenshtein.ratio(gold_sense.lower(), predicted_sense.lower())\n",
    "\n",
    "    # Check if similarity exceeds the threshold\n",
    "    return int(similarity >= threshold)\n",
    "\n",
    "\n",
    "dspy.settings.configure(lm=lm)\n",
    "cot_module = CoT()\n",
    "teleprompter = BootstrapFewShot(\n",
    "    metric=wsd_metric, max_bootstrapped_demos=0, max_labeled_demos=9\n",
    ")\n",
    "optimized_cot = teleprompter.compile(cot_module, trainset=trainset)\n"
   ]
  },
  {
   "cell_type": "code",
   "execution_count": 102,
   "metadata": {},
   "outputs": [
    {
     "name": "stderr",
     "output_type": "stream",
     "text": [
      "Average Metric: 202 / 247  (81.8): 100%|██████████| 247/247 [06:39<00:00,  1.62s/it]\n"
     ]
    },
    {
     "data": {
      "text/html": [
       "<style type=\"text/css\">\n",
       "#T_c0902 th {\n",
       "  text-align: left;\n",
       "}\n",
       "#T_c0902 td {\n",
       "  text-align: left;\n",
       "}\n",
       "#T_c0902_row0_col0, #T_c0902_row0_col1, #T_c0902_row0_col2, #T_c0902_row0_col3, #T_c0902_row0_col4, #T_c0902_row0_col5, #T_c0902_row1_col0, #T_c0902_row1_col1, #T_c0902_row1_col2, #T_c0902_row1_col3, #T_c0902_row1_col4, #T_c0902_row1_col5, #T_c0902_row2_col0, #T_c0902_row2_col1, #T_c0902_row2_col2, #T_c0902_row2_col3, #T_c0902_row2_col4, #T_c0902_row2_col5, #T_c0902_row3_col0, #T_c0902_row3_col1, #T_c0902_row3_col2, #T_c0902_row3_col3, #T_c0902_row3_col4, #T_c0902_row3_col5, #T_c0902_row4_col0, #T_c0902_row4_col1, #T_c0902_row4_col2, #T_c0902_row4_col3, #T_c0902_row4_col4, #T_c0902_row4_col5, #T_c0902_row5_col0, #T_c0902_row5_col1, #T_c0902_row5_col2, #T_c0902_row5_col3, #T_c0902_row5_col4, #T_c0902_row5_col5, #T_c0902_row6_col0, #T_c0902_row6_col1, #T_c0902_row6_col2, #T_c0902_row6_col3, #T_c0902_row6_col4, #T_c0902_row6_col5, #T_c0902_row7_col0, #T_c0902_row7_col1, #T_c0902_row7_col2, #T_c0902_row7_col3, #T_c0902_row7_col4, #T_c0902_row7_col5, #T_c0902_row8_col0, #T_c0902_row8_col1, #T_c0902_row8_col2, #T_c0902_row8_col3, #T_c0902_row8_col4, #T_c0902_row8_col5, #T_c0902_row9_col0, #T_c0902_row9_col1, #T_c0902_row9_col2, #T_c0902_row9_col3, #T_c0902_row9_col4, #T_c0902_row9_col5, #T_c0902_row10_col0, #T_c0902_row10_col1, #T_c0902_row10_col2, #T_c0902_row10_col3, #T_c0902_row10_col4, #T_c0902_row10_col5, #T_c0902_row11_col0, #T_c0902_row11_col1, #T_c0902_row11_col2, #T_c0902_row11_col3, #T_c0902_row11_col4, #T_c0902_row11_col5, #T_c0902_row12_col0, #T_c0902_row12_col1, #T_c0902_row12_col2, #T_c0902_row12_col3, #T_c0902_row12_col4, #T_c0902_row12_col5, #T_c0902_row13_col0, #T_c0902_row13_col1, #T_c0902_row13_col2, #T_c0902_row13_col3, #T_c0902_row13_col4, #T_c0902_row13_col5, #T_c0902_row14_col0, #T_c0902_row14_col1, #T_c0902_row14_col2, #T_c0902_row14_col3, #T_c0902_row14_col4, #T_c0902_row14_col5, #T_c0902_row15_col0, #T_c0902_row15_col1, #T_c0902_row15_col2, #T_c0902_row15_col3, #T_c0902_row15_col4, #T_c0902_row15_col5, #T_c0902_row16_col0, #T_c0902_row16_col1, #T_c0902_row16_col2, #T_c0902_row16_col3, #T_c0902_row16_col4, #T_c0902_row16_col5, #T_c0902_row17_col0, #T_c0902_row17_col1, #T_c0902_row17_col2, #T_c0902_row17_col3, #T_c0902_row17_col4, #T_c0902_row17_col5, #T_c0902_row18_col0, #T_c0902_row18_col1, #T_c0902_row18_col2, #T_c0902_row18_col3, #T_c0902_row18_col4, #T_c0902_row18_col5, #T_c0902_row19_col0, #T_c0902_row19_col1, #T_c0902_row19_col2, #T_c0902_row19_col3, #T_c0902_row19_col4, #T_c0902_row19_col5 {\n",
       "  text-align: left;\n",
       "  white-space: pre-wrap;\n",
       "  word-wrap: break-word;\n",
       "  max-width: 400px;\n",
       "}\n",
       "</style>\n",
       "<table id=\"T_c0902\">\n",
       "  <thead>\n",
       "    <tr>\n",
       "      <th class=\"blank level0\" >&nbsp;</th>\n",
       "      <th id=\"T_c0902_level0_col0\" class=\"col_heading level0 col0\" >context</th>\n",
       "      <th id=\"T_c0902_level0_col1\" class=\"col_heading level0 col1\" >definitions</th>\n",
       "      <th id=\"T_c0902_level0_col2\" class=\"col_heading level0 col2\" >word</th>\n",
       "      <th id=\"T_c0902_level0_col3\" class=\"col_heading level0 col3\" >example_sense</th>\n",
       "      <th id=\"T_c0902_level0_col4\" class=\"col_heading level0 col4\" >pred_sense</th>\n",
       "      <th id=\"T_c0902_level0_col5\" class=\"col_heading level0 col5\" >wsd_metric</th>\n",
       "    </tr>\n",
       "  </thead>\n",
       "  <tbody>\n",
       "    <tr>\n",
       "      <th id=\"T_c0902_level0_row0\" class=\"row_heading level0 row0\" >0</th>\n",
       "      <td id=\"T_c0902_row0_col0\" class=\"data row0 col0\" >Fragmentation and <target>flow</target> regulation of large river systems, by region.</td>\n",
       "      <td id=\"T_c0902_row0_col1\" class=\"data row0 col1\" >['the motion characteristic of fluids (liquids or gases)', 'the amount of fluid that flows in a given time', 'the act of flowing or streaming; continuous...</td>\n",
       "      <td id=\"T_c0902_row0_col2\" class=\"data row0 col2\" >flow</td>\n",
       "      <td id=\"T_c0902_row0_col3\" class=\"data row0 col3\" >The act of flowing or streaming; continuous progression</td>\n",
       "      <td id=\"T_c0902_row0_col4\" class=\"data row0 col4\" >the motion characteristic of fluids (liquids or gases)</td>\n",
       "      <td id=\"T_c0902_row0_col5\" class=\"data row0 col5\" >0</td>\n",
       "    </tr>\n",
       "    <tr>\n",
       "      <th id=\"T_c0902_level0_row1\" class=\"row_heading level0 row1\" >1</th>\n",
       "      <td id=\"T_c0902_row1_col0\" class=\"data row1 col0\" >All this may not be obvious to the <target>public</target>, which is concerned about advances in treatment, but I am convinced this basic research will begin...</td>\n",
       "      <td id=\"T_c0902_row1_col1\" class=\"data row1 col1\" >['people in general considered as a whole', 'a body of people sharing some common interest']</td>\n",
       "      <td id=\"T_c0902_row1_col2\" class=\"data row1 col2\" >public</td>\n",
       "      <td id=\"T_c0902_row1_col3\" class=\"data row1 col3\" >People in general considered as a whole</td>\n",
       "      <td id=\"T_c0902_row1_col4\" class=\"data row1 col4\" >people in general considered as a whole</td>\n",
       "      <td id=\"T_c0902_row1_col5\" class=\"data row1 col5\" >✔️ [1]</td>\n",
       "    </tr>\n",
       "    <tr>\n",
       "      <th id=\"T_c0902_level0_row2\" class=\"row_heading level0 row2\" >2</th>\n",
       "      <td id=\"T_c0902_row2_col0\" class=\"data row2 col0\" >Ringers memorize patterns of <target>changes</target>, known as`` methods,`` which have odd-sounding names like Kent Treble Bob Major or Grandsire Caters.</td>\n",
       "      <td id=\"T_c0902_row2_col1\" class=\"data row2 col1\" >['an event that occurs when something passes from one state or phase to another', 'a relational difference between states; especially between states before and after...</td>\n",
       "      <td id=\"T_c0902_row2_col2\" class=\"data row2 col2\" >changes</td>\n",
       "      <td id=\"T_c0902_row2_col3\" class=\"data row2 col3\" >The result of alteration or modification</td>\n",
       "      <td id=\"T_c0902_row2_col4\" class=\"data row2 col4\" >The action of changing something</td>\n",
       "      <td id=\"T_c0902_row2_col5\" class=\"data row2 col5\" >0</td>\n",
       "    </tr>\n",
       "    <tr>\n",
       "      <th id=\"T_c0902_level0_row3\" class=\"row_heading level0 row3\" >3</th>\n",
       "      <td id=\"T_c0902_row3_col0\" class=\"data row3 col0\" >But it is about a long term advantage, with a certain degree of indetermination, because the team can be eliminated first of change, and in...</td>\n",
       "      <td id=\"T_c0902_row3_col1\" class=\"data row3 col1\" >['formal and explicit approval', \"a mechanism of social control for enforcing a society's standards\", 'official permission or approval', 'the act of final authorization']</td>\n",
       "      <td id=\"T_c0902_row3_col2\" class=\"data row3 col2\" >sanction</td>\n",
       "      <td id=\"T_c0902_row3_col3\" class=\"data row3 col3\" >A mechanism of social control for enforcing a society's standards</td>\n",
       "      <td id=\"T_c0902_row3_col4\" class=\"data row3 col4\" >a mechanism of social control for enforcing a society's standards</td>\n",
       "      <td id=\"T_c0902_row3_col5\" class=\"data row3 col5\" >✔️ [1]</td>\n",
       "    </tr>\n",
       "    <tr>\n",
       "      <th id=\"T_c0902_level0_row4\" class=\"row_heading level0 row4\" >4</th>\n",
       "      <td id=\"T_c0902_row4_col0\" class=\"data row4 col0\" >His shout had been involuntary, something anybody might have done without <target>thinking</target>, on the spur of the moment.</td>\n",
       "      <td id=\"T_c0902_row4_col1\" class=\"data row4 col1\" >['the process of using your mind to consider something carefully']</td>\n",
       "      <td id=\"T_c0902_row4_col2\" class=\"data row4 col2\" >thinking</td>\n",
       "      <td id=\"T_c0902_row4_col3\" class=\"data row4 col3\" >The process of using your mind to consider something carefully</td>\n",
       "      <td id=\"T_c0902_row4_col4\" class=\"data row4 col4\" >Context: His shout had been involuntary, something anybody might have done without <target>thinking</target>, on the spur of the moment. Word: thinking Definitions: the process of...</td>\n",
       "      <td id=\"T_c0902_row4_col5\" class=\"data row4 col5\" >✔️ [1]</td>\n",
       "    </tr>\n",
       "    <tr>\n",
       "      <th id=\"T_c0902_level0_row5\" class=\"row_heading level0 row5\" >5</th>\n",
       "      <td id=\"T_c0902_row5_col0\" class=\"data row5 col0\" >The new money flows into the already top-heavy administrative structure, which busies itself <target>piling</target> more and more paper work on the teachers.</td>\n",
       "      <td id=\"T_c0902_row5_col1\" class=\"data row5 col1\" >['arrange in stacks', 'press tightly together or cram', 'place or lay as if in a pile']</td>\n",
       "      <td id=\"T_c0902_row5_col2\" class=\"data row5 col2\" >piling</td>\n",
       "      <td id=\"T_c0902_row5_col3\" class=\"data row5 col3\" >Place or lay as if in a pile</td>\n",
       "      <td id=\"T_c0902_row5_col4\" class=\"data row5 col4\" >arrange in stacks</td>\n",
       "      <td id=\"T_c0902_row5_col5\" class=\"data row5 col5\" >0</td>\n",
       "    </tr>\n",
       "    <tr>\n",
       "      <th id=\"T_c0902_level0_row6\" class=\"row_heading level0 row6\" >6</th>\n",
       "      <td id=\"T_c0902_row6_col0\" class=\"data row6 col0\" >There are many successful <target>schools</target> scattered throughout this nation, some of them in the poorest of ghettos, and they are all sending us the same...</td>\n",
       "      <td id=\"T_c0902_row6_col1\" class=\"data row6 col1\" >['an educational institution', 'a building where young people receive education', 'the process of being formally educated at a school', 'a body of creative artists or...</td>\n",
       "      <td id=\"T_c0902_row6_col2\" class=\"data row6 col2\" >schools</td>\n",
       "      <td id=\"T_c0902_row6_col3\" class=\"data row6 col3\" >An educational institution</td>\n",
       "      <td id=\"T_c0902_row6_col4\" class=\"data row6 col4\" >an educational institution</td>\n",
       "      <td id=\"T_c0902_row6_col5\" class=\"data row6 col5\" >✔️ [1]</td>\n",
       "    </tr>\n",
       "    <tr>\n",
       "      <th id=\"T_c0902_level0_row7\" class=\"row_heading level0 row7\" >7</th>\n",
       "      <td id=\"T_c0902_row7_col0\" class=\"data row7 col0\" >I was convinced that what was <target>true</target> of retinoblastoma would be true for all cancers.``</td>\n",
       "      <td id=\"T_c0902_row7_col1\" class=\"data row7 col1\" >['consistent with fact or reality; not false; ; - B. Russell', 'accurately placed or thrown', 'devoted (sometimes fanatically) to a cause or concept or truth',...</td>\n",
       "      <td id=\"T_c0902_row7_col2\" class=\"data row7 col2\" >true</td>\n",
       "      <td id=\"T_c0902_row7_col3\" class=\"data row7 col3\" >Consistent with fact or reality; not false</td>\n",
       "      <td id=\"T_c0902_row7_col4\" class=\"data row7 col4\" >consistent with fact or reality; not false; ; - B. Russell</td>\n",
       "      <td id=\"T_c0902_row7_col5\" class=\"data row7 col5\" >✔️ [1]</td>\n",
       "    </tr>\n",
       "    <tr>\n",
       "      <th id=\"T_c0902_level0_row8\" class=\"row_heading level0 row8\" >8</th>\n",
       "      <td id=\"T_c0902_row8_col0\" class=\"data row8 col0\" >However, the paradoxical thing about the action of the players of Real Madrid is that it did not comply to what we normally characterize as...</td>\n",
       "      <td id=\"T_c0902_row8_col1\" class=\"data row8 col1\" >['a principle or condition that customarily governs behavior', 'something regarded as a normative example', 'prescribed guide for conduct or action', '(linguistics) a rule describing (or...</td>\n",
       "      <td id=\"T_c0902_row8_col2\" class=\"data row8 col2\" >rules</td>\n",
       "      <td id=\"T_c0902_row8_col3\" class=\"data row8 col3\" >Prescribed guide for conduct or action</td>\n",
       "      <td id=\"T_c0902_row8_col4\" class=\"data row8 col4\" >Directions that define the way a game or sport is to be conducted</td>\n",
       "      <td id=\"T_c0902_row8_col5\" class=\"data row8 col5\" >0</td>\n",
       "    </tr>\n",
       "    <tr>\n",
       "      <th id=\"T_c0902_level0_row9\" class=\"row_heading level0 row9\" >9</th>\n",
       "      <td id=\"T_c0902_row9_col0\" class=\"data row9 col0\" >Mr. Quinlan, 30 years old, knew he carried a damaged gene, having lost an eye to the rare tumor when he was only two months...</td>\n",
       "      <td id=\"T_c0902_row9_col1\" class=\"data row9 col1\" >['a woman who has given birth to a child (also used as a term of address to your mother)', 'a stringy slimy substance consisting of...</td>\n",
       "      <td id=\"T_c0902_row9_col2\" class=\"data row9 col2\" >mother</td>\n",
       "      <td id=\"T_c0902_row9_col3\" class=\"data row9 col3\" >A woman who has given birth to a child (also used as a term of address to your mother)</td>\n",
       "      <td id=\"T_c0902_row9_col4\" class=\"data row9 col4\" >a woman who has given birth to a child (also used as a term of address to your mother)</td>\n",
       "      <td id=\"T_c0902_row9_col5\" class=\"data row9 col5\" >✔️ [1]</td>\n",
       "    </tr>\n",
       "    <tr>\n",
       "      <th id=\"T_c0902_level0_row10\" class=\"row_heading level0 row10\" >10</th>\n",
       "      <td id=\"T_c0902_row10_col0\" class=\"data row10 col0\" >Frankly, the <target>market</target> is very calm, observes Mace Blicksilver of Marblehead Asset Management.</td>\n",
       "      <td id=\"T_c0902_row10_col1\" class=\"data row10 col1\" >['the world of commercial activity where goods and services are bought and sold', 'the customers for a particular product or service', 'a marketplace where groceries...</td>\n",
       "      <td id=\"T_c0902_row10_col2\" class=\"data row10 col2\" >market</td>\n",
       "      <td id=\"T_c0902_row10_col3\" class=\"data row10 col3\" >The securities markets in the aggregate</td>\n",
       "      <td id=\"T_c0902_row10_col4\" class=\"data row10 col4\" >the securities markets in the aggregate</td>\n",
       "      <td id=\"T_c0902_row10_col5\" class=\"data row10 col5\" >✔️ [1]</td>\n",
       "    </tr>\n",
       "    <tr>\n",
       "      <th id=\"T_c0902_level0_row11\" class=\"row_heading level0 row11\" >11</th>\n",
       "      <td id=\"T_c0902_row11_col0\" class=\"data row11 col0\" >But it is about a long term advantage, with a certain <target>degree</target> of indetermination, because the team can be eliminated first of change, and in...</td>\n",
       "      <td id=\"T_c0902_row11_col1\" class=\"data row11 col1\" >['a position on a scale of intensity or amount or quality', 'a specific identifiable position in a continuum or series or especially in a process',...</td>\n",
       "      <td id=\"T_c0902_row11_col2\" class=\"data row11 col2\" >degree</td>\n",
       "      <td id=\"T_c0902_row11_col3\" class=\"data row11 col3\" >A specific identifiable position in a continuum or series or especially in a process</td>\n",
       "      <td id=\"T_c0902_row11_col4\" class=\"data row11 col4\" >a specific identifiable position in a continuum or series or especially in a process</td>\n",
       "      <td id=\"T_c0902_row11_col5\" class=\"data row11 col5\" >✔️ [1]</td>\n",
       "    </tr>\n",
       "    <tr>\n",
       "      <th id=\"T_c0902_level0_row12\" class=\"row_heading level0 row12\" >12</th>\n",
       "      <td id=\"T_c0902_row12_col0\" class=\"data row12 col0\" >Executes the <target>instructions</target> in a file sequentially.</td>\n",
       "      <td id=\"T_c0902_row12_col1\" class=\"data row12 col1\" >['a message describing how something is to be done', 'the activities of educating or instructing; activities that impart knowledge or skill', 'the profession of a...</td>\n",
       "      <td id=\"T_c0902_row12_col2\" class=\"data row12 col2\" >instructions</td>\n",
       "      <td id=\"T_c0902_row12_col3\" class=\"data row12 col3\" >(computer science) a line of code written as part of a computer program</td>\n",
       "      <td id=\"T_c0902_row12_col4\" class=\"data row12 col4\" >(computer science) a line of code written as part of a computer program</td>\n",
       "      <td id=\"T_c0902_row12_col5\" class=\"data row12 col5\" >✔️ [1]</td>\n",
       "    </tr>\n",
       "    <tr>\n",
       "      <th id=\"T_c0902_level0_row13\" class=\"row_heading level0 row13\" >13</th>\n",
       "      <td id=\"T_c0902_row13_col0\" class=\"data row13 col0\" >In this polder, within a short period of time, the Oostvaardersplassen have developed into a wonderful natural site with an unprecedented wealth of bird <target>life</target>,...</td>\n",
       "      <td id=\"T_c0902_row13_col1\" class=\"data row13 col1\" >['a characteristic state or mode of living', 'the experience of being alive; the course of human events and activities', 'the course of existence of an...</td>\n",
       "      <td id=\"T_c0902_row13_col2\" class=\"data row13 col2\" >life</td>\n",
       "      <td id=\"T_c0902_row13_col3\" class=\"data row13 col3\" >Living things collectively</td>\n",
       "      <td id=\"T_c0902_row13_col4\" class=\"data row13 col4\" >living things collectively</td>\n",
       "      <td id=\"T_c0902_row13_col5\" class=\"data row13 col5\" >✔️ [1]</td>\n",
       "    </tr>\n",
       "    <tr>\n",
       "      <th id=\"T_c0902_level0_row14\" class=\"row_heading level0 row14\" >14</th>\n",
       "      <td id=\"T_c0902_row14_col0\" class=\"data row14 col0\" >But if the genes are damaged-- perhaps by radiation, a chemical or through a chance <target>accident</target> in cell division-- their growth-suppressing proteins no longer work,...</td>\n",
       "      <td id=\"T_c0902_row14_col1\" class=\"data row14 col1\" >['an unfortunate mishap; especially one causing damage or injury', 'anything that happens suddenly or by chance without an apparent cause']</td>\n",
       "      <td id=\"T_c0902_row14_col2\" class=\"data row14 col2\" >accident</td>\n",
       "      <td id=\"T_c0902_row14_col3\" class=\"data row14 col3\" >Anything that happens suddenly or by chance without an apparent cause</td>\n",
       "      <td id=\"T_c0902_row14_col4\" class=\"data row14 col4\" >anything that happens suddenly or by chance without an apparent cause</td>\n",
       "      <td id=\"T_c0902_row14_col5\" class=\"data row14 col5\" >✔️ [1]</td>\n",
       "    </tr>\n",
       "    <tr>\n",
       "      <th id=\"T_c0902_level0_row15\" class=\"row_heading level0 row15\" >15</th>\n",
       "      <td id=\"T_c0902_row15_col0\" class=\"data row15 col0\" >It is calculated as the <target>average</target> of three separate indices that measure trends in populations of 695 terrestrial species, 274 marine species, and 344 freshwater...</td>\n",
       "      <td id=\"T_c0902_row15_col1\" class=\"data row15 col1\" >['a statistic describing the location of a distribution', '(sports) the ratio of successful performances to opportunities', 'an intermediate scale value regarded as normal or usual']</td>\n",
       "      <td id=\"T_c0902_row15_col2\" class=\"data row15 col2\" >average</td>\n",
       "      <td id=\"T_c0902_row15_col3\" class=\"data row15 col3\" >A statistic describing the location of a distribution</td>\n",
       "      <td id=\"T_c0902_row15_col4\" class=\"data row15 col4\" >a statistic describing the location of a distribution</td>\n",
       "      <td id=\"T_c0902_row15_col5\" class=\"data row15 col5\" >✔️ [1]</td>\n",
       "    </tr>\n",
       "    <tr>\n",
       "      <th id=\"T_c0902_level0_row16\" class=\"row_heading level0 row16\" >16</th>\n",
       "      <td id=\"T_c0902_row16_col0\" class=\"data row16 col0\" >A cross-state econometric investigation, furthermore, reveals that, holding other factors constant, the difference between a state 's major- party vote going to the <target>Republican</target> gubernatorial...</td>\n",
       "      <td id=\"T_c0902_row16_col1\" class=\"data row16 col1\" >['relating to or belonging to the Republican Party', 'having the supreme power lying in the body of citizens entitled to vote for officers and representatives...</td>\n",
       "      <td id=\"T_c0902_row16_col2\" class=\"data row16 col2\" >Republican</td>\n",
       "      <td id=\"T_c0902_row16_col3\" class=\"data row16 col3\" >Relating to or belonging to the Republican Party</td>\n",
       "      <td id=\"T_c0902_row16_col4\" class=\"data row16 col4\" >relating to or belonging to the Republican Party</td>\n",
       "      <td id=\"T_c0902_row16_col5\" class=\"data row16 col5\" >✔️ [1]</td>\n",
       "    </tr>\n",
       "    <tr>\n",
       "      <th id=\"T_c0902_level0_row17\" class=\"row_heading level0 row17\" >17</th>\n",
       "      <td id=\"T_c0902_row17_col0\" class=\"data row17 col0\" >Totally absorbed, the ringers stare straight ahead, using peripheral vision( they call it`` rope-sight``) to watch the other ropes and thus time their <target>pulls</target>.</td>\n",
       "      <td id=\"T_c0902_row17_col1\" class=\"data row17 col1\" >['the act of pulling; applying force to move something toward or with you', 'the force used in pulling', 'special advantage or influence', 'a device used...</td>\n",
       "      <td id=\"T_c0902_row17_col2\" class=\"data row17 col2\" >pulls</td>\n",
       "      <td id=\"T_c0902_row17_col3\" class=\"data row17 col3\" >The act of pulling; applying force to move something toward or with you</td>\n",
       "      <td id=\"T_c0902_row17_col4\" class=\"data row17 col4\" >the act of pulling; applying force to move something toward or with you</td>\n",
       "      <td id=\"T_c0902_row17_col5\" class=\"data row17 col5\" >✔️ [1]</td>\n",
       "    </tr>\n",
       "    <tr>\n",
       "      <th id=\"T_c0902_level0_row18\" class=\"row_heading level0 row18\" >18</th>\n",
       "      <td id=\"T_c0902_row18_col0\" class=\"data row18 col0\" >No one speaks, and the snaking of the ropes seems to make as much sound as the bells themselves, <target>muffled</target> by the ceiling.</td>\n",
       "      <td id=\"T_c0902_row18_col1\" class=\"data row18 col1\" >['conceal or hide', 'deaden (a sound or noise), especially by wrapping']</td>\n",
       "      <td id=\"T_c0902_row18_col2\" class=\"data row18 col2\" >muffled</td>\n",
       "      <td id=\"T_c0902_row18_col3\" class=\"data row18 col3\" >Deaden (a sound or noise), especially by wrapping</td>\n",
       "      <td id=\"T_c0902_row18_col4\" class=\"data row18 col4\" >deaden (a sound or noise), especially by wrapping</td>\n",
       "      <td id=\"T_c0902_row18_col5\" class=\"data row18 col5\" >✔️ [1]</td>\n",
       "    </tr>\n",
       "    <tr>\n",
       "      <th id=\"T_c0902_level0_row19\" class=\"row_heading level0 row19\" >19</th>\n",
       "      <td id=\"T_c0902_row19_col0\" class=\"data row19 col0\" >Like all genes, tumor-suppressor genes are inherited in two <target>copies</target>, one from each parent.</td>\n",
       "      <td id=\"T_c0902_row19_col1\" class=\"data row19 col1\" >['a reproduction of a written record (e.g. of a legal or school record)', 'a thing made to be similar or identical to another thing', 'matter...</td>\n",
       "      <td id=\"T_c0902_row19_col2\" class=\"data row19 col2\" >copies</td>\n",
       "      <td id=\"T_c0902_row19_col3\" class=\"data row19 col3\" >A thing made to be similar or identical to another thing</td>\n",
       "      <td id=\"T_c0902_row19_col4\" class=\"data row19 col4\" >A thing made to be similar or identical to another thing</td>\n",
       "      <td id=\"T_c0902_row19_col5\" class=\"data row19 col5\" >✔️ [1]</td>\n",
       "    </tr>\n",
       "  </tbody>\n",
       "</table>\n"
      ],
      "text/plain": [
       "<pandas.io.formats.style.Styler at 0x13c05ce60>"
      ]
     },
     "metadata": {},
     "output_type": "display_data"
    },
    {
     "data": {
      "text/html": [
       "\n",
       "                <div style='\n",
       "                    text-align: center;\n",
       "                    font-size: 16px;\n",
       "                    font-weight: bold;\n",
       "                    color: #555;\n",
       "                    margin: 10px 0;'>\n",
       "                    ... 227 more rows not displayed ...\n",
       "                </div>\n",
       "                "
      ],
      "text/plain": [
       "<IPython.core.display.HTML object>"
      ]
     },
     "metadata": {},
     "output_type": "display_data"
    }
   ],
   "source": [
    "evaluator = Evaluate(devset=valset, num_threads=2, display_progress=True, display_table=20,return_outputs=True)\n",
    "\n",
    "evaluation_score, outputs = evaluator(optimized_cot, metric=wsd_metric)"
   ]
  },
  {
   "cell_type": "code",
   "execution_count": 103,
   "metadata": {},
   "outputs": [
    {
     "data": {
      "text/plain": [
       "81.78"
      ]
     },
     "execution_count": 103,
     "metadata": {},
     "output_type": "execute_result"
    }
   ],
   "source": [
    "evaluation_score"
   ]
  },
  {
   "cell_type": "code",
   "execution_count": 104,
   "metadata": {},
   "outputs": [],
   "source": [
    "outputs = pd.DataFrame(outputs)"
   ]
  },
  {
   "cell_type": "code",
   "execution_count": 105,
   "metadata": {},
   "outputs": [],
   "source": [
    "outputs.columns = ['problem','response','result']"
   ]
  },
  {
   "cell_type": "code",
   "execution_count": 106,
   "metadata": {},
   "outputs": [],
   "source": [
    "outputs.to_json('senseval_3_sample_GPT-4o_3shot.json',orient='records')"
   ]
  }
 ],
 "metadata": {
  "kernelspec": {
   "display_name": "senseval3-ulz3Apu_-py3.12",
   "language": "python",
   "name": "python3"
  },
  "language_info": {
   "codemirror_mode": {
    "name": "ipython",
    "version": 3
   },
   "file_extension": ".py",
   "mimetype": "text/x-python",
   "name": "python",
   "nbconvert_exporter": "python",
   "pygments_lexer": "ipython3",
   "version": "3.12.4"
  }
 },
 "nbformat": 4,
 "nbformat_minor": 2
}
